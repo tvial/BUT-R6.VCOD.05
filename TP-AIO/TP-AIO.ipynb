{
 "cells": [
  {
   "cell_type": "markdown",
   "id": "37b1defa-1265-4b6f-977e-3b4b3cf61204",
   "metadata": {},
   "source": [
    "# TP AIO\n",
    "\n",
    "Ce TP a pour but de montrer les avantages de la programmation concurrente asynchrone en Python, par rapport à la programmation classique. Nous implémenterons une même tâche de 2 manières : synchrone (basique) et asynchrone (concurrente).\n",
    "\n",
    "La tâche est simple : lire un certain nombre de fichiers depuis le web, et compter le nombre de lignes total qui les composent.\n",
    "- **pour le mode synchrone**, nous utiliserons la librairie `requests`\n",
    "- **pour le mode asynchrone**, nous utiliserons `aiohttp`\n",
    "\n",
    "## Les données\n",
    "\n",
    "Les données sont de simples fichiers sur un bucket GCP public, `but-tp-aio`. Ce sont les fichiers de vecteurs du TP \"Shazam\" : des fichiers JSONL. Leur contenu n'a pas d'importance dans la mesure où on ne fait que compter les lignes."
   ]
  },
  {
   "cell_type": "markdown",
   "id": "ef20cf9f-7a73-4ef7-82c1-dff3026702c0",
   "metadata": {},
   "source": [
    "Les données sont de simples fichiers textes sur un bucket GCP public, `but-tp-aio`."
   ]
  },
  {
   "cell_type": "markdown",
   "id": "16c73d28-e7b2-479b-ae4c-f793529b99f6",
   "metadata": {},
   "source": [
    "# Préliminaires\n",
    "\n",
    "Avant toute chose il faut être en mesure de compter le nombre de lignes dnas un flux de caractères provnenant de la lecture du fichier. Ecrire une telle fonction, appelée `count_lines`.\n",
    "\n",
    "<u>Indication</u> : pour lire un fichier texte ouvert en Python, on peut écrire une boucle `for` sur le fichier et itérer ainsi sur les lignes qui le composent."
   ]
  },
  {
   "cell_type": "code",
   "execution_count": null,
   "id": "8586da02-6d88-4f21-a3d8-7ee83e3be221",
   "metadata": {},
   "outputs": [],
   "source": [
    "def count_lines(f):\n",
    "    ..."
   ]
  },
  {
   "cell_type": "markdown",
   "id": "1ced9013-4968-43c5-af77-a6cb0e111047",
   "metadata": {},
   "source": [
    "On teste la fonction sur un objet `io.StringIO`, qui simule un fichier à partir d'une chaîne de caractères en mémoire."
   ]
  },
  {
   "cell_type": "code",
   "execution_count": null,
   "id": "fb0d4220-32fb-4139-8ddd-45cfb85f87d0",
   "metadata": {},
   "outputs": [],
   "source": [
    "test_string = '''Ceci est un\n",
    "fichier de test\n",
    "qui comporte\n",
    "\n",
    "\n",
    "quelques\n",
    "lignes'''\n",
    "\n",
    "import io\n",
    "assert count_lines(io.StringIO(test_string)) == 7, 'Vérifier la fonction count_lines...'\n",
    "print('OK')"
   ]
  },
  {
   "cell_type": "markdown",
   "id": "c17c234d-347b-42b2-9289-fb1484ef0a51",
   "metadata": {},
   "source": [
    "# Lecture synchrone\n",
    "\n",
    "La liste des fichiers, et donc leurs URL publiques, est connue d'avance."
   ]
  },
  {
   "cell_type": "code",
   "execution_count": null,
   "id": "da83a9dc-7804-4085-ae2b-0ba912f1f1f3",
   "metadata": {},
   "outputs": [],
   "source": [
    "url_list = [f'https://storage.googleapis.com/but-tp-aio/file_{i:03}.txt' for i in range(1, 11)]\n",
    "\n",
    "print(len(url_list), 'fichiers')"
   ]
  },
  {
   "cell_type": "markdown",
   "id": "2ebe42c9-fbc8-4a56-9011-a91f9c59b568",
   "metadata": {},
   "source": [
    "Ecrire une fonction `count_lines_from_url()` qui compte le nombre de lignes dans un fichier texte accessible depuis le web. On utilisera pour cela la fonction `count_lines()` du début, et la librairie `requests`.\n",
    "\n",
    "Vous pouvez vous référer à la [documentation de `requests`](https://requests.readthedocs.io/en/latest/), le bout de code en exemple tout au début est un très bon point de départ. Dans notre cas c'est bien un appel GET HTTP, et il n'y a pas besoin d'authentification."
   ]
  },
  {
   "cell_type": "code",
   "execution_count": null,
   "id": "d1be0f64-da35-42e2-be29-fa86d9a126ca",
   "metadata": {},
   "outputs": [],
   "source": [
    "import requests\n",
    "\n",
    "def count_lines_from_url(url):\n",
    "    ..."
   ]
  },
  {
   "cell_type": "markdown",
   "id": "de219c3b-bdf9-4819-8a7e-770f9769786d",
   "metadata": {},
   "source": [
    "Vérification..."
   ]
  },
  {
   "cell_type": "code",
   "execution_count": null,
   "id": "294d5ed8-b5e8-4d7d-a7b3-1b4e20ec02eb",
   "metadata": {},
   "outputs": [],
   "source": [
    "n_lines = count_lines_from_url(url_list[6])\n",
    "expected_n_lines = 100_000\n",
    "assert n_lines == expected_n_lines, f'Valeur {n_lines} inattendue, il faudrait {expected_n_lines} !'\n",
    "print('OK')"
   ]
  },
  {
   "cell_type": "markdown",
   "id": "58ec8149-f13c-40a8-a90f-942caf08c888",
   "metadata": {},
   "source": [
    "Faire maintenant la somme des nombres de lignes sur toute la liste, en mesurant le temps d'exécution de la cellule (`%%time`) :"
   ]
  },
  {
   "cell_type": "code",
   "execution_count": null,
   "id": "fd44040c-a630-43c0-a804-21dae4fc4c55",
   "metadata": {},
   "outputs": [],
   "source": [
    "%%time\n",
    "\n",
    "total_lines = ...\n",
    "print(total_lines)"
   ]
  },
  {
   "cell_type": "markdown",
   "id": "34df7ebd-9a3a-4d93-8cd9-a356f583e5c7",
   "metadata": {},
   "source": [
    "# Lecture asynchrone\n",
    "\n",
    "On installe d'abord la librairie `aiohttp`, puis on importe les librairies utiles :"
   ]
  },
  {
   "cell_type": "code",
   "execution_count": null,
   "id": "2282fa70-fca9-4286-b7c8-e9ee69d2840a",
   "metadata": {
    "scrolled": true
   },
   "outputs": [],
   "source": [
    "%pip install aiohttp"
   ]
  },
  {
   "cell_type": "code",
   "execution_count": null,
   "id": "a057d019-9dcf-466f-b87d-1a3c577eab7d",
   "metadata": {},
   "outputs": [],
   "source": [
    "import asyncio\n",
    "import aiohttp\n",
    "from datetime import datetime"
   ]
  },
  {
   "cell_type": "markdown",
   "id": "7fa9ab4d-99e7-4c1f-8b0a-6ff555bfc346",
   "metadata": {},
   "source": [
    "Ecrire une coroutine `count_lines_from_url_async()`, équivalente à `count_lines_from_url_async()` ci-dessus, mais qui utilise `aiohttp` au lieu de `requests`. Elle utilisera aussi la fonction `count_lines()`, qui n'a pas besoin d'être modifiée.\n",
    "\n",
    "La coroutine prendra en paramètre une session `aiohttp` déjà créée : ne pas la créer dans la fonction."
   ]
  },
  {
   "cell_type": "code",
   "execution_count": null,
   "id": "33d15c4a-3e0d-4f71-abbb-edfd98d95da4",
   "metadata": {},
   "outputs": [],
   "source": [
    "async def count_lines_from_url_async(session, url):\n",
    "    ..."
   ]
  },
  {
   "cell_type": "markdown",
   "id": "8ec5b64c-1301-47e5-94dc-8e0c73bfec40",
   "metadata": {},
   "source": [
    "Ecrire maintenant une autre coroutine, `count_lines_from_list_async()`, qui parcourt la liste `url_list` et additionne les nombres de lignes de chaque fichier. Utiliser pour cela `asyncio.gather()`."
   ]
  },
  {
   "cell_type": "code",
   "execution_count": null,
   "id": "0ae71f69-fe5c-452f-8dda-49897c8b7837",
   "metadata": {},
   "outputs": [],
   "source": [
    "async def count_lines_from_list_async():\n",
    "    ..."
   ]
  },
  {
   "cell_type": "markdown",
   "id": "cdb25d96-02e4-44d2-987c-ed87ff042a09",
   "metadata": {},
   "source": [
    "Enfin, exécuter cette nouvelle coroutine dans la cellule pour afficher les lignes. Noter qu'on ne peut pas utiliser `%%time` avec `await`, on mesure donc le temps \"à l'ancienne\"."
   ]
  },
  {
   "cell_type": "code",
   "execution_count": null,
   "id": "efe64a88-16c5-434d-ade2-e3cf7638bf3b",
   "metadata": {},
   "outputs": [],
   "source": [
    "t1 = datetime.now()\n",
    "\n",
    "total_lines = ...\n",
    "\n",
    "t2 = datetime.now()\n",
    "\n",
    "print(total_lines, 'in', (t2 - t1).total_seconds(), 'seocnds')"
   ]
  },
  {
   "cell_type": "code",
   "execution_count": null,
   "id": "fdb26234-0e79-4ca5-8ebb-c4c8ac16bcf2",
   "metadata": {},
   "outputs": [],
   "source": []
  }
 ],
 "metadata": {
  "kernelspec": {
   "display_name": "Python 3 (ipykernel)",
   "language": "python",
   "name": "python3"
  },
  "language_info": {
   "codemirror_mode": {
    "name": "ipython",
    "version": 3
   },
   "file_extension": ".py",
   "mimetype": "text/x-python",
   "name": "python",
   "nbconvert_exporter": "python",
   "pygments_lexer": "ipython3",
   "version": "3.9.21"
  }
 },
 "nbformat": 4,
 "nbformat_minor": 5
}
