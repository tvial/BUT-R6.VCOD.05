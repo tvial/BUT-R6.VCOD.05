{
 "cells": [
  {
   "cell_type": "markdown",
   "id": "194002fc-6bfb-4bdc-8370-9a4c30b29b94",
   "metadata": {},
   "source": [
    "# TP sur les performances de Parquet\n",
    "\n",
    "L'objectif de ce TP est de montrer l'intérêt de Parquet lorsque la taille des données augmente et qu'elles sont dénormalisées. Nous ferons en particulier une comparaison avec le format CSV.\n",
    "\n",
    "Nous allons lire et écrire des fichiers avec Pandas, avec un protocole de test bien défini. Les données seront générées aléatoirement."
   ]
  },
  {
   "cell_type": "markdown",
   "id": "07472b80-4bb4-49dd-986b-a99436fc0583",
   "metadata": {},
   "source": [
    "## Installation et chargement des librairies"
   ]
  },
  {
   "cell_type": "code",
   "execution_count": null,
   "id": "d8cc0cc7-1f30-4107-b032-1aba3a5b1ade",
   "metadata": {
    "scrolled": true
   },
   "outputs": [],
   "source": [
    "%pip install pyarrow matplotlib"
   ]
  },
  {
   "cell_type": "code",
   "execution_count": null,
   "id": "83df4bbc-5e9b-441f-bca4-4a3dd92ba783",
   "metadata": {},
   "outputs": [],
   "source": [
    "from typing import Any, Callable, Dict, List, Tuple\n",
    "import os\n",
    "import shutil\n",
    "import timeit\n",
    "\n",
    "import matplotlib.pyplot as plt\n",
    "import pandas as pd\n",
    "import numpy as np"
   ]
  },
  {
   "cell_type": "markdown",
   "id": "c9ef6eaa-e50b-42b3-b031-d860485a1c38",
   "metadata": {},
   "source": [
    "## Génération des données\n",
    "\n",
    "Nos données seront constituées des champs suivants :\n",
    "- `usine` : nom de l'usine Transpomme (peu de valeurs distinctes)\n",
    "- `variete` : nom de la variété de pomme observée (beaucoup de valeurs distinctes)\n",
    "- `diametre` : diametre mesuré (un entier)\n",
    "- `poids` : poids de la pomme (un flottant)\n",
    "\n",
    "Pour pouvoir générer ces données, nous avons besoin de définir quelques paramètres :"
   ]
  },
  {
   "cell_type": "code",
   "execution_count": null,
   "id": "7e4ec8f2-eb9e-4326-888e-019aa9100184",
   "metadata": {},
   "outputs": [],
   "source": [
    "USINES = ['Rouen', 'Sarlat', 'Strasbourg', 'Lorient']\n",
    "VARIETES = [\n",
    "    'Akane', 'Alkmène', 'Angold', 'Annurca', 'Antarès', 'Antonovka', 'Argillière',\n",
    "    'Ariane', 'Ascahire', 'Berlepsch', 'Borowitsky', 'Bouvière', 'Braeburn',\n",
    "    'Cabassou', 'Calypso', 'Cellini', 'Châtaignier', 'Choupette', 'Circe', 'Clivia',\n",
    "    'Cloche', 'Colapuy', 'Collina', 'Court-Pendu', 'Discovery', 'Diva',\n",
    "    'Delflopion', 'Chailleux', 'Florina', 'Ecolette', 'Elstar', 'Enterprise', 'Era',\n",
    "    'Freedom', 'Fuji', 'Gala', 'Gaillarde', 'Galeuse', 'Golchard', 'Gosselet',\n",
    "    'Goldrush', 'Gravenstein', 'HoneyCrunch', 'Idared', 'Jerseymac', 'Jonagold',\n",
    "    'Karneval', 'Katja', 'Katka', 'Lanscailler', 'Lobo', 'Luna', 'Melrose',\n",
    "    'Merlijn', 'McIntosh', 'Modi', 'Ontario', 'Opal', 'Pohorka', 'Pigeonnet',\n",
    "    'Bismarck', 'Clochard', 'Curé', 'Sauergrauech', 'Empire', 'Rajka', 'Reanda',\n",
    "    'Rebella', 'Recolor', 'Regine', 'Reglindis', 'Richard', 'Remo', 'Rene',\n",
    "    'Rewena', 'Rozela', 'RubisGold', 'Sampion', 'Santana', 'Saturn', 'Sirena',\n",
    "    'Spartan', 'Topaz'\n",
    "]\n",
    "\n",
    "DIAMETRE_MIN = 80\n",
    "DIAMETRE_MAX = 120\n",
    "\n",
    "POIDS_MIN = 95.\n",
    "POIDS_MAX = 180."
   ]
  },
  {
   "cell_type": "code",
   "execution_count": null,
   "id": "b2f1f934-e05c-4c2d-b093-7f6e5c75c57e",
   "metadata": {},
   "outputs": [],
   "source": [
    "def generate_dataframe(n_rows: int) -> pd.DataFrame:\n",
    "    \"\"\"\n",
    "    Génère un dataframe Pandas de taille donnée\n",
    "    \"\"\"\n",
    "    return pd.DataFrame({\n",
    "        'usine': np.random.choice(USINES, n_rows),\n",
    "        'variete': np.random.choice(VARIETES, n_rows),\n",
    "        'diametre': np.random.randint(DIAMETRE_MIN, DIAMETRE_MAX, n_rows),\n",
    "        'poids': POIDS_MIN + (POIDS_MAX - POIDS_MIN) * np.random.random(n_rows)\n",
    "    })"
   ]
  },
  {
   "cell_type": "code",
   "execution_count": null,
   "id": "9d8306e1-2b20-45ee-aada-62b081139c2b",
   "metadata": {},
   "outputs": [],
   "source": [
    "generate_dataframe(5)"
   ]
  },
  {
   "cell_type": "markdown",
   "id": "da7f614d-cc0a-4fd3-b24c-70a4b4eeba62",
   "metadata": {},
   "source": [
    "## Tests de performance"
   ]
  },
  {
   "cell_type": "code",
   "execution_count": null,
   "id": "900cfc44-f5f4-45d2-b53d-5277bb30f561",
   "metadata": {},
   "outputs": [],
   "source": [
    "# Nombre de lignes à tester\n",
    "# NB : attention à partir d'un million ça commence à devenir lent !\n",
    "ROW_NUMBERS_TO_TEST = [\n",
    "    1_000,\n",
    "    10_000,\n",
    "    100_000,\n",
    "    200_000,\n",
    "    300_000,\n",
    "    400_000,\n",
    "    500_000,\n",
    "    750_000,\n",
    "    1_000_000,\n",
    "]"
   ]
  },
  {
   "cell_type": "code",
   "execution_count": null,
   "id": "325d8ffc-6f30-48b4-9756-53ea0d366a85",
   "metadata": {},
   "outputs": [],
   "source": [
    "# Répertoire de données où le dataframe sera stocké\n",
    "DATA_DIRECTORY = 'data'\n",
    "DATA_FILE = os.path.join(DATA_DIRECTORY, 'test.dat')\n",
    "os.makedirs(DATA_DIRECTORY, exist_ok=True)"
   ]
  },
  {
   "cell_type": "code",
   "execution_count": null,
   "id": "91bf6d13-e48d-4ac8-8183-8a229e8aa1c2",
   "metadata": {},
   "outputs": [],
   "source": [
    "def get_file_size() -> int:\n",
    "    \"\"\"\n",
    "    Renvoie la taille du fichier\n",
    "    \"\"\"\n",
    "    return os.stat(DATA_FILE).st_size\n",
    "\n",
    "\n",
    "def run_test(n_rows: int, n_executions: int, format: str, test_name: str, **kwargs) -> Dict:\n",
    "    \"\"\"\n",
    "    Lance les mesures pour un test donné\n",
    "    \"\"\"\n",
    "    df = generate_dataframe(n_rows)\n",
    "    save_method = getattr(df, 'to_' + format)\n",
    "    read_method = getattr(pd, 'read_' + format)\n",
    "\n",
    "    # Informations sur le test\n",
    "    result = {\n",
    "        'n_rows': n_rows,\n",
    "        'test_name': test_name\n",
    "    }\n",
    "\n",
    "    # Taille du fichier\n",
    "    result['file_size_mb'] = get_file_size() / 1_048_576\n",
    "\n",
    "    ################\n",
    "    # Ecrire ici les mesures de performance, sous la forme :\n",
    "    #     result['nom_du_test'] = timeit.timeit(lambda: ..., number=n_executions)\n",
    "    #\n",
    "    # Exemple :\n",
    "    #\n",
    "    # if test_name == 'calculs':\n",
    "    #     result['addition'] = timeit.timeit(lambda: 1+2, number=n_executions)\n",
    "    #     result['multiplication'] = timeit.timeit(lambda: 92*42, number=n_executions)\n",
    "    #\n",
    "    # Vous pouvez faire référence à DATA_FILE (nom du fichier de données) dans la lambda\n",
    "    ################\n",
    "\n",
    "    return result\n",
    "\n",
    "\n",
    "def run_all_tests(n_executions: int) -> pd.DataFrame:\n",
    "    \"\"\"\n",
    "    Lance toutes les mesures\n",
    "    \"\"\"\n",
    "    ################\n",
    "    # Faire appel à la méthode run_test() pour les tests pertinents, en faisant varier le nb de lignes\n",
    "    # La fonction doit renvoyer un dataframe avec :\n",
    "    # - n_rows\n",
    "    # - test_name (ex. nom du format et compression éventuelle)\n",
    "    # - une colonne par résultat de test retourné par run_test()\n",
    "    ################\n",
    "\n",
    "    return pd.DatraFrame()"
   ]
  },
  {
   "cell_type": "code",
   "execution_count": null,
   "id": "fd66a696-4588-41a8-a3e6-14041d0e008b",
   "metadata": {},
   "outputs": [],
   "source": [
    "# 10 = nb d'exécutions\n",
    "results = run_all_tests(10)"
   ]
  },
  {
   "cell_type": "code",
   "execution_count": null,
   "id": "2cbc7c1d-5077-4b62-87a7-cc8958aacccf",
   "metadata": {},
   "outputs": [],
   "source": [
    "results"
   ]
  },
  {
   "cell_type": "markdown",
   "id": "b5b12587-c0bc-4ec5-bd47-4308e5329fb8",
   "metadata": {},
   "source": [
    "## Visualisation"
   ]
  },
  {
   "cell_type": "code",
   "execution_count": null,
   "id": "6a606988-2ffc-42e7-89e1-3ef7e5d9436d",
   "metadata": {},
   "outputs": [],
   "source": [
    "################\n",
    "# Utiliser par exemple matplotlib pour faire des rapports graphiques des différents tests\n",
    "# Il faut mettre en avant l'influence du nb de lignes (n_rows) et du format, via test_name\n",
    "################"
   ]
  },
  {
   "cell_type": "code",
   "execution_count": null,
   "id": "7511b338-8c5b-4a30-bccf-ad3888b5920b",
   "metadata": {},
   "outputs": [],
   "source": []
  }
 ],
 "metadata": {
  "kernelspec": {
   "display_name": "Python 3 (ipykernel)",
   "language": "python",
   "name": "python3"
  },
  "language_info": {
   "codemirror_mode": {
    "name": "ipython",
    "version": 3
   },
   "file_extension": ".py",
   "mimetype": "text/x-python",
   "name": "python",
   "nbconvert_exporter": "python",
   "pygments_lexer": "ipython3",
   "version": "3.13.1"
  }
 },
 "nbformat": 4,
 "nbformat_minor": 5
}
